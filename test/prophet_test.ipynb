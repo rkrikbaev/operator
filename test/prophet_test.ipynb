import requests

host = ''

r = requests.get(host:8000/action2)